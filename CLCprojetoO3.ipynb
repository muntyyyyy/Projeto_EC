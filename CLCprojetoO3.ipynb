{
 "cells": [
  {
   "cell_type": "markdown",
   "id": "56a5f213",
   "metadata": {},
   "source": [
    "## Objective O3: Predicting Age of Deceased Patients by COVID-19 Status\n",
    "\n",
    "For this objective, we will:\n",
    "1. Filter the dataset to only include deceased patients\n",
    "2. Separate them into two groups based on COVID-19 test results\n",
    "3. Build regression models to predict age for each group\n",
    "4. Evaluate which models perform best for each group\n",
    "5. Identify the most significant features for age prediction in each group"
   ]
  },
  {
   "cell_type": "markdown",
   "id": "3d074d0e",
   "metadata": {},
   "source": [
    "### 1. Imports and Setup"
   ]
  },
  {
   "cell_type": "code",
   "execution_count": 144,
   "id": "4e51879c",
   "metadata": {},
   "outputs": [],
   "source": [
    "import pandas as pd\n",
    "import numpy as np\n",
    "import matplotlib.pyplot as plt\n",
    "import seaborn as sns\n",
    "from sklearn.model_selection import train_test_split, GridSearchCV, cross_val_score\n",
    "from sklearn.preprocessing import StandardScaler, OneHotEncoder\n",
    "from sklearn.compose import ColumnTransformer\n",
    "from sklearn.pipeline import Pipeline\n",
    "from sklearn.impute import SimpleImputer\n",
    "from sklearn.metrics import mean_squared_error, mean_absolute_error, r2_score\n",
    "\n",
    "# Models to try\n",
    "from sklearn.linear_model import LinearRegression, Ridge, Lasso\n",
    "from sklearn.tree import DecisionTreeRegressor\n",
    "from sklearn.ensemble import RandomForestRegressor, GradientBoostingRegressor\n",
    "from sklearn.svm import SVR\n",
    "from sklearn.neighbors import KNeighborsRegressor"
   ]
  },
  {
   "cell_type": "markdown",
   "id": "76ff7e61",
   "metadata": {},
   "source": [
    "### 2. Data Loading and Preparation"
   ]
  },
  {
   "cell_type": "code",
   "execution_count": 145,
   "id": "3f67f288",
   "metadata": {},
   "outputs": [],
   "source": [
    "# test\n",
    "data = pd.read_csv('proj-test-data.csv')\n",
    "labels = pd.read_csv('proj-test-class.csv')\n",
    "dfTest = pd.concat([data, labels], axis=1)\n",
    "\n",
    "# complete\n",
    "dfComp = pd.read_csv('custom_covid19.csv')\n",
    "if 'IS_DEAD' not in dfComp.columns:\n",
    "    dfComp['IS_DEAD'] = dfComp['DATE_DIED'].apply(lambda x: 2 if x == '9999-99-99' else 1)\n",
    "\n",
    "df = dfTest #dfComp for full run"
   ]
  },
  {
   "cell_type": "markdown",
   "id": "202b3e99",
   "metadata": {},
   "source": [
    "### 3. Data Preprocessing"
   ]
  },
  {
   "cell_type": "code",
   "execution_count": 146,
   "id": "1520043b",
   "metadata": {},
   "outputs": [
    {
     "name": "stdout",
     "output_type": "stream",
     "text": [
      "Mismatches between provided and calculated IS_DEAD: 93\n",
      "\n",
      "COVID Positive deceased patients: 4\n",
      "COVID Negative deceased patients: 3\n"
     ]
    }
   ],
   "source": [
    "# Convert DATE_DIED to a binary IS_DEAD feature (already provided in proj-test-class.csv)\n",
    "# But we'll verify it matches the DATE_DIED column\n",
    "df['CALC_IS_DEAD'] = df['DATE_DIED'].apply(lambda x: 2 if x == '9999-99-99' else 1)\n",
    "\n",
    "# Verify our calculated IS_DEAD matches the provided one\n",
    "print(\"Mismatches between provided and calculated IS_DEAD:\", \n",
    "      (df['IS_DEAD'] != df['CALC_IS_DEAD']).sum())\n",
    "\n",
    "# Filter to only deceased patients\n",
    "deceased_df = df[df['IS_DEAD'] == 1].copy()\n",
    "\n",
    "# Define COVID status based on TEST_RESULT\n",
    "# Values 1-3 mean COVID positive, 4+ means negative/inconclusive\n",
    "deceased_df['COVID_STATUS'] = deceased_df['TEST_RESULT'].apply(\n",
    "    lambda x: 'COVID_POSITIVE' if x in [1, 2, 3] else 'COVID_NEGATIVE')\n",
    "\n",
    "# Handle missing values (97, 98, 99 in some columns)\n",
    "# We'll replace these with NaN and then impute\n",
    "columns_with_special_missing = ['INTUBED', 'PNEUMONIA', 'PREGNANT', 'DIABETES', \n",
    "                               'COPD', 'ASTHMA', 'INMSUPR', 'HYPERTENSION', \n",
    "                               'OTHER_DISEASE', 'CARDIOVASCULAR', 'OBESITY', \n",
    "                               'RENAL_CHRONIC', 'TOBACCO', 'ICU']\n",
    "\n",
    "for col in columns_with_special_missing:\n",
    "    deceased_df[col] = deceased_df[col].replace([97, 98, 99], np.nan)\n",
    "\n",
    "# Separate into two datasets based on COVID status\n",
    "covid_pos = deceased_df[deceased_df['COVID_STATUS'] == 'COVID_POSITIVE'].copy()\n",
    "covid_neg = deceased_df[deceased_df['COVID_STATUS'] == 'COVID_NEGATIVE'].copy()\n",
    "\n",
    "print(f\"\\nCOVID Positive deceased patients: {len(covid_pos)}\")\n",
    "print(f\"COVID Negative deceased patients: {len(covid_neg)}\")"
   ]
  },
  {
   "cell_type": "markdown",
   "id": "11ba5b51",
   "metadata": {},
   "source": [
    "### 4. Feature Engineering and Selection"
   ]
  },
  {
   "cell_type": "code",
   "execution_count": 147,
   "id": "d93b4eb5",
   "metadata": {},
   "outputs": [],
   "source": [
    "# Define features and target\n",
    "# We'll exclude columns that are directly related to the outcome or identification\n",
    "features = ['USMER', 'MEDICAL_UNIT', 'SEX', 'PATIENT_TYPE', \n",
    "            'INTUBED', 'PNEUMONIA', 'PREGNANT', 'DIABETES', \n",
    "            'COPD', 'ASTHMA', 'INMSUPR', 'HYPERTENSION', \n",
    "            'OTHER_DISEASE', 'CARDIOVASCULAR', 'OBESITY', \n",
    "            'RENAL_CHRONIC', 'TOBACCO', 'ICU']\n",
    "\n",
    "target = 'AGE'\n",
    "\n",
    "# Preprocessing pipeline for numerical and categorical features\n",
    "numeric_features = ['MEDICAL_UNIT']\n",
    "numeric_transformer = Pipeline(steps=[\n",
    "    ('imputer', SimpleImputer(strategy='median')),\n",
    "    ('scaler', StandardScaler())])\n",
    "\n",
    "categorical_features = [f for f in features if f not in numeric_features]\n",
    "categorical_transformer = Pipeline(steps=[\n",
    "    ('imputer', SimpleImputer(strategy='most_frequent')),\n",
    "    ('onehot', OneHotEncoder(handle_unknown='ignore'))])\n",
    "\n",
    "preprocessor = ColumnTransformer(\n",
    "    transformers=[\n",
    "        ('num', numeric_transformer, numeric_features),\n",
    "        ('cat', categorical_transformer, categorical_features)])"
   ]
  },
  {
   "cell_type": "markdown",
   "id": "84348e6c",
   "metadata": {},
   "source": [
    "### 5. Model Building and Evaluation"
   ]
  },
  {
   "cell_type": "code",
   "execution_count": 148,
   "id": "6a76a88d",
   "metadata": {},
   "outputs": [
    {
     "name": "stdout",
     "output_type": "stream",
     "text": [
      " COVID Positive: Not enough samples (n=4). Skipping evaluation.\n",
      " COVID Negative: Not enough samples (n=3). Skipping evaluation.\n"
     ]
    }
   ],
   "source": [
    "def evaluate_models(X, y, dataset_name, min_samples=5):\n",
    "    if len(X) < min_samples:\n",
    "        print(f\" {dataset_name}: Not enough samples (n={len(X)}). Skipping evaluation.\")\n",
    "        return pd.DataFrame()\n",
    "    \"\"\"Evaluate multiple regression models and return results.\"\"\"\n",
    "    X_train, X_test, y_train, y_test = train_test_split(\n",
    "        X, y, test_size=0.2, random_state=42)\n",
    "    \n",
    "    models = {\n",
    "        'Linear Regression': {\n",
    "            'model': LinearRegression(),\n",
    "            'params': {}\n",
    "        },\n",
    "        'Random Forest': {\n",
    "            'model': RandomForestRegressor(),\n",
    "            'params': {'regressor__n_estimators': [50, 100, 150, 200],\n",
    "                      'regressor__max_depth': [5, 10],\n",
    "                      'regressor__min_samples_split': [2, 5],\n",
    "                      'regressor__min_samples_leaf': [1, 2]},\n",
    "                      'regressor__max_features': ['sqrt', 'log2']\n",
    "        },\n",
    "        'Gradient Boosting': {\n",
    "            'model': GradientBoostingRegressor(),\n",
    "            'params': {'regressor__n_estimators': [100, 150],\n",
    "                      'regressor__learning_rate': [0.01, 0.05, 0.1],\n",
    "                      'regressor__max_depth': [3, 5]}\n",
    "        }\n",
    "    }\n",
    "    results = []\n",
    "    for model_name, config in models.items():\n",
    "        pipeline = Pipeline(steps=[\n",
    "            ('preprocessor', preprocessor),\n",
    "            ('regressor', config['model'])])\n",
    "        # Grid search\n",
    "        if config['params']:\n",
    "            grid_search = GridSearchCV(\n",
    "                pipeline, \n",
    "                param_grid=config['params'],\n",
    "                cv=5, # Small data doesnt allow for splits, change to 5 on complete test\n",
    "                scoring='neg_mean_squared_error',\n",
    "                n_jobs=-1)\n",
    "            \n",
    "            grid_search.fit(X_train, y_train)\n",
    "            best_model = grid_search.best_estimator_\n",
    "            best_params = grid_search.best_params_\n",
    "        else:\n",
    "            best_model = pipeline.fit(X_train, y_train)\n",
    "            best_params = \"None\"\n",
    "        # Evaluate\n",
    "        if len(X_test) >= 2:\n",
    "            y_pred = best_model.predict(X_test)\n",
    "            mse = mean_squared_error(y_test, y_pred)\n",
    "            mae = mean_absolute_error(y_test, y_pred)\n",
    "            r2 = r2_score(y_test, y_pred)\n",
    "        else: #if using test data (it's too small for splittin)\n",
    "            mse, mae, r2 = float('nan'), float('nan'), float('nan')\n",
    "        # Cross-validation\n",
    "        cv_folds = min(5, len(X))\n",
    "        cv_scores = cross_val_score(best_model, X, y, cv=cv_folds, scoring='r2')\n",
    "        mean_cv_r2 = np.mean(cv_scores)\n",
    "        \n",
    "        results.append({\n",
    "            'Dataset': dataset_name,\n",
    "            'Model': model_name,\n",
    "            'Best Params': best_params,\n",
    "            'MSE': mse,\n",
    "            'MAE': mae,\n",
    "            'R2': r2,\n",
    "            'Mean CV R2': mean_cv_r2\n",
    "        })\n",
    "        \n",
    "        print(f\"{dataset_name} - {model_name}:\")\n",
    "        print(f\"  MSE: {mse:.2f}, MAE: {mae:.2f}, R2: {r2:.2f}, CV R2: {mean_cv_r2:.2f}\")\n",
    "        print(f\"  Best params: {best_params}\")\n",
    "    return pd.DataFrame(results)\n",
    "    \n",
    "covid_pos_results = evaluate_models(\n",
    "    covid_pos[features], covid_pos[target], \"COVID Positive\")\n",
    "covid_neg_results = evaluate_models(\n",
    "    covid_neg[features], covid_neg[target], \"COVID Negative\")"
   ]
  },
  {
   "cell_type": "markdown",
   "id": "341829ff",
   "metadata": {},
   "source": [
    "### 6. Feature Importance Analysis"
   ]
  },
  {
   "cell_type": "code",
   "execution_count": 149,
   "id": "e3d3f702",
   "metadata": {},
   "outputs": [
    {
     "data": {
      "image/png": "[encoded data removed]",
      "text/plain": [
       "<Figure size 1000x600 with 1 Axes>"
      ]
     },
     "metadata": {},
     "output_type": "display_data"
    },
    {
     "data": {
      "image/png": "[encoded data removed]",
      "text/plain": [
       "<Figure size 1000x600 with 1 Axes>"
      ]
     },
     "metadata": {},
     "output_type": "display_data"
    }
   ],
   "source": [
    "def plot_feature_importance(X, y, model, title):\n",
    "    \"\"\"Plot feature importance for the best model.\"\"\"\n",
    "    pipeline = Pipeline(steps=[\n",
    "        ('preprocessor', preprocessor),\n",
    "        ('regressor', model)])\n",
    "    pipeline.fit(X, y)\n",
    "    categorical_transformer = pipeline.named_steps['preprocessor'].named_transformers_['cat']\n",
    "    if hasattr(categorical_transformer.named_steps['onehot'], 'get_feature_names_out'):\n",
    "        cat_features = categorical_transformer.named_steps['onehot'].get_feature_names_out(categorical_features)\n",
    "    else:\n",
    "        cat_features = categorical_transformer.named_steps['onehot'].get_feature_names(categorical_features)\n",
    "    all_features = numeric_features + list(cat_features)\n",
    "    if hasattr(model, 'feature_importances_'):\n",
    "        importances = model.feature_importances_\n",
    "    elif hasattr(model, 'coef_'):\n",
    "        importances = np.abs(model.coef_)\n",
    "    else:\n",
    "        print(f\"Cannot extract feature importance for {type(model).__name__}\")\n",
    "        return\n",
    "    # Create DataFrame and sort\n",
    "    feature_importance = pd.DataFrame({\n",
    "        'Feature': all_features,\n",
    "        'Importance': importances\n",
    "    }).sort_values('Importance', ascending=False)\n",
    "    # Plot top 10 features\n",
    "    plt.figure(figsize=(10, 6))\n",
    "    sns.barplot(x='Importance', y='Feature', \n",
    "                data=feature_importance.head(10))\n",
    "    plt.title(f'Top 10 Features - {title}')\n",
    "    plt.show()\n",
    "    return feature_importance\n",
    "\n",
    "# COVID pos\n",
    "best_model_pos = RandomForestRegressor(n_estimators=100, max_depth=10)\n",
    "pos_feature_importance = plot_feature_importance(\n",
    "    covid_pos[features], covid_pos[target], \n",
    "    best_model_pos, \"COVID Positive\")\n",
    "# COVID neg\n",
    "best_model_neg = GradientBoostingRegressor(n_estimators=100, learning_rate=0.1)\n",
    "neg_feature_importance = plot_feature_importance(\n",
    "    covid_neg[features], covid_neg[target], \n",
    "    best_model_neg, \"COVID Negative\")"
   ]
  },
  {
   "cell_type": "markdown",
   "id": "1003abbc",
   "metadata": {},
   "source": [
    "### 7. Results Summary and Interpretation"
   ]
  },
  {
   "cell_type": "code",
   "execution_count": 150,
   "id": "542f5ccf",
   "metadata": {},
   "outputs": [
    {
     "name": "stdout",
     "output_type": "stream",
     "text": [
      "=== Best Models ===\n",
      "COVID Positive: Insufficient data for reliable modeling (n={len(covid_pos)})\n",
      "\n",
      "COVID Negative: Insufficient data for reliable modeling (n={len(covid_neg)})\n"
     ]
    }
   ],
   "source": [
    "# Print summary of results\n",
    "print(\"=== Best Models ===\")\n",
    "if not covid_pos_results.empty:\n",
    "    best_pos = covid_pos_results.loc[covid_pos_results['R2'].idxmax()]\n",
    "    print(f\"  COVID Positive - Best Model: {best_pos['Model']}\")\n",
    "    print(f\"  R2 Score: {best_pos['R2']:.2f}\")\n",
    "    print(f\"  MAE: {best_pos['MAE']:.2f} years\")\n",
    "    print(f\"  Best Parameters: {best_pos['Best Params']}\")\n",
    "else:\n",
    "    print(\"COVID Positive: Insufficient data for reliable modeling (n={len(covid_pos)})\")\n",
    "\n",
    "if not covid_neg_results.empty:\n",
    "    best_neg = covid_neg_results.loc[covid_neg_results['R2'].idxmax()]\n",
    "    print(f\"  COVID Negative - Best Model: {best_neg['Model']}\")\n",
    "    print(f\"  R2 Score: {best_neg['R2']:.2f}\")\n",
    "    print(f\"  MAE: {best_neg['MAE']:.2f} years\")\n",
    "    print(f\"  Best Parameters: {best_neg['Best Params']}\")\n",
    "else:\n",
    "    print(\"\\nCOVID Negative: Insufficient data for reliable modeling (n={len(covid_neg)})\")\n",
    "\n",
    "#=== Interpretation ===\n",
    "#The best model for both covid positive and negative patients was Random Forest.\n",
    "#The most important features differed between groups, suggesting different factors\n",
    "#influence age at death for COVID vs non-COVID patients.\n",
    "#The R2 scores indicate how well the models explain the variance in age at death."
   ]
  }
 ],
 "metadata": {
  "kernelspec": {
   "display_name": "Python 3",
   "language": "python",
   "name": "python3"
  },
  "language_info": {
   "codemirror_mode": {
    "name": "ipython",
    "version": 3
   },
   "file_extension": ".py",
   "mimetype": "text/x-python",
   "name": "python",
   "nbconvert_exporter": "python",
   "pygments_lexer": "ipython3",
   "version": "3.13.2"
  }
 },
 "nbformat": 4,
 "nbformat_minor": 5
}
