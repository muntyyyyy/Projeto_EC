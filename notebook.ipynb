{
 "cells": [
  {
   "cell_type": "markdown",
   "id": "6c468225",
   "metadata": {},
   "source": [
    "Projeto da Unidade Currícular \"Engenharia do Conhecimento\"\n",
    "Autoria: Marcelo Munteanu, Pedro Elias, Pedro Junior"
   ]
  },
  {
   "cell_type": "code",
   "execution_count": null,
   "id": "0b8ae2b7",
   "metadata": {},
   "outputs": [],
   "source": [
    "#imports essenciais ao projeto\n",
    "import pandas as pd\n",
    "import numpy as np\n",
    "import matplotlib.pyplot as plt\n",
    "import seaborn as sns\n",
    "\n",
    "from sklearn.model_selection import train_test_split, cross_val_score, GridSearchCV\n",
    "from sklearn.preprocessing import StandardScaler\n",
    "from sklearn.linear_model import LogisticRegression, LinearRegression\n",
    "from sklearn.tree import DecisionTreeClassifier, DecisionTreeRegressor\n",
    "from sklearn.ensemble import RandomForestClassifier\n",
    "from sklearn.metrics import classification_report, confusion_matrix, mean_absolute_error, r2_score"
   ]
  },
  {
   "cell_type": "code",
   "execution_count": 3,
   "id": "db71909c",
   "metadata": {},
   "outputs": [
    {
     "data": {
      "image/png": "[encoded data removed]",
      "text/plain": [
       "<Figure size 432x288 with 1 Axes>"
      ]
     },
     "metadata": {
      "needs_background": "light"
     },
     "output_type": "display_data"
    },
    {
     "name": "stdout",
     "output_type": "stream",
     "text": [
      "\n",
      "Classificação (O1):\n",
      "               precision    recall  f1-score   support\n",
      "\n",
      "           0       0.95      0.97      0.96     18532\n",
      "           1       0.56      0.42      0.48      1468\n",
      "\n",
      "    accuracy                           0.93     20000\n",
      "   macro avg       0.76      0.70      0.72     20000\n",
      "weighted avg       0.93      0.93      0.93     20000\n",
      "\n",
      "\n",
      "Regressão Geral (O2): MAE = 11.350150314513739  R2 = 0.2653207540823902\n",
      "\n",
      "Regressão Mortalidade (O3): MAE = 11.46790792214183  R2 = 0.09709712014013638\n"
     ]
    },
    {
     "data": {
      "image/png": "[encoded data removed]",
      "text/plain": [
       "<Figure size 432x288 with 1 Axes>"
      ]
     },
     "metadata": {
      "needs_background": "light"
     },
     "output_type": "display_data"
    },
    {
     "name": "stdout",
     "output_type": "stream",
     "text": [
      "\n",
      "Todos os objetivos (O1 a O4) foram atingidos com base em técnicas de árvore de decisão, regressão linear e seleção de atributos via importância.\n"
     ]
    }
   ],
   "source": [
    "# Etapa 2: Carregamento e inspeção inicial dos dados\n",
    "df = pd.read_csv(\"data/custom_covid19.csv\")\n",
    "df['DEATH'] = (df['DATE_DIED'] != '9999-99-99').astype(int)\n",
    "df.drop('DATE_DIED', axis=1, inplace=True)\n",
    "df.replace([97, 98, 99], np.nan, inplace=True)\n",
    "\n",
    "# Etapa 3: Processamento de Dados\n",
    "# Remover colunas com > 40% missing\n",
    "df = df.loc[:, df.isnull().mean() < 0.4]\n",
    "\n",
    "# Preencher valores ausentes com moda\n",
    "for col in df.columns:\n",
    "    if df[col].isnull().any():\n",
    "        df[col] = df[col].fillna(df[col].mode()[0])\n",
    "\n",
    "# Etapa 4: Análise Exploratória\n",
    "sns.countplot(x='DEATH', data=df)\n",
    "plt.title('Distribuição da Variável Alvo: Morte')\n",
    "plt.show()\n",
    "\n",
    "# Etapa 5: Modelagem - Objetivo O1 - Classificação de Morte\n",
    "X = df.drop(columns=['DEATH', 'AGE'])\n",
    "y = df['DEATH']\n",
    "X_train, X_test, y_train, y_test = train_test_split(X, y, stratify=y, test_size=0.2, random_state=42)\n",
    "\n",
    "modelo_o1 = DecisionTreeClassifier(criterion='entropy', max_depth=5)\n",
    "modelo_o1.fit(X_train, y_train)\n",
    "y_pred_o1 = modelo_o1.predict(X_test)\n",
    "print(\"\\nClassificação (O1):\\n\", classification_report(y_test, y_pred_o1))\n",
    "\n",
    "# Etapa 6: Modelagem - Objetivo O2 - Regressão da Idade\n",
    "y_age = df['AGE']\n",
    "X_age = df.drop(columns=['AGE'])\n",
    "X_train_age, X_test_age, y_train_age, y_test_age = train_test_split(X_age, y_age, test_size=0.2, random_state=42)\n",
    "modelo_o2 = LinearRegression()\n",
    "modelo_o2.fit(X_train_age, y_train_age)\n",
    "y_pred_age = modelo_o2.predict(X_test_age)\n",
    "print(\"\\nRegressão Geral (O2): MAE =\", mean_absolute_error(y_test_age, y_pred_age), \" R2 =\", r2_score(y_test_age, y_pred_age))\n",
    "\n",
    "# Etapa 7: Modelagem - Objetivo O3 - Regressão da Idade para Pacientes que Morreram\n",
    "df_dead = df[df['DEATH'] == 1]\n",
    "X_d3 = df_dead.drop(columns=['AGE'])\n",
    "y_d3 = df_dead['AGE']\n",
    "X_train_d3, X_test_d3, y_train_d3, y_test_d3 = train_test_split(X_d3, y_d3, test_size=0.2, random_state=42)\n",
    "modelo_o3 = DecisionTreeRegressor(max_depth=5)\n",
    "modelo_o3.fit(X_train_d3, y_train_d3)\n",
    "y_pred_d3 = modelo_o3.predict(X_test_d3)\n",
    "print(\"\\nRegressão Mortalidade (O3): MAE =\", mean_absolute_error(y_test_d3, y_pred_d3), \" R2 =\", r2_score(y_test_d3, y_pred_d3))\n",
    "\n",
    "# Etapa 8: Importância das Variáveis - Objetivo O4\n",
    "importancias = pd.Series(modelo_o1.feature_importances_, index=X.columns)\n",
    "importancias.nlargest(10).plot(kind='barh')\n",
    "plt.title(\"Top 10 Variáveis mais Relevantes para Morte\")\n",
    "plt.show()\n",
    "\n",
    "# Etapa 9: Conclusão\n",
    "del modelo_o1, modelo_o2, modelo_o3\n",
    "print(\"\\nTodos os objetivos (O1 a O4) foram atingidos com base em técnicas de árvore de decisão, regressão linear e seleção de atributos via importância.\")\n",
    "\n",
    "\n"
   ]
  },
  {
   "cell_type": "code",
   "execution_count": null,
   "id": "8f0b6262",
   "metadata": {},
   "outputs": [],
   "source": []
  }
 ],
 "metadata": {
  "kernelspec": {
   "display_name": "Python 3",
   "language": "python",
   "name": "python3"
  },
  "language_info": {
   "codemirror_mode": {
    "name": "ipython",
    "version": 3
   },
   "file_extension": ".py",
   "mimetype": "text/x-python",
   "name": "python",
   "nbconvert_exporter": "python",
   "pygments_lexer": "ipython3",
   "version": "3.10.12"
  }
 },
 "nbformat": 4,
 "nbformat_minor": 5
}
