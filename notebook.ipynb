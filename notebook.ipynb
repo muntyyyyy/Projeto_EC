{
 "cells": [
  {
   "cell_type": "markdown",
   "id": "6c468225",
   "metadata": {},
   "source": [
    "Projeto da Unidade Currícular \"Engenharia do Conhecimento\"\n",
    "Autoria: Marcelo Munteanu, Pedro Elias, Pedro Junior"
   ]
  }
 ],
 "metadata": {
  "language_info": {
   "name": "python"
  }
 },
 "nbformat": 4,
 "nbformat_minor": 5
}
